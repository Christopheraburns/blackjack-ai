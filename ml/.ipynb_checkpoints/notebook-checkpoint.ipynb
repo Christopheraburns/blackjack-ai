{
 "cells": [
  {
   "cell_type": "code",
   "execution_count": 1,
   "metadata": {},
   "outputs": [
    {
     "ename": "ModuleNotFoundError",
     "evalue": "No module named 'sagemaker'",
     "output_type": "error",
     "traceback": [
      "\u001b[0;31m---------------------------------------------------------------------------\u001b[0m",
      "\u001b[0;31mModuleNotFoundError\u001b[0m                       Traceback (most recent call last)",
      "\u001b[0;32m<timed exec>\u001b[0m in \u001b[0;36m<module>\u001b[0;34m\u001b[0m\n",
      "\u001b[0;31mModuleNotFoundError\u001b[0m: No module named 'sagemaker'"
     ]
    }
   ],
   "source": [
    "%%time\n",
    "import sagemaker\n",
    "from sagemaker import get_execution_role\n",
    "import boto3\n",
    "s3 = boto3.resource('s3')\n",
    "import json\n",
    "import jsonlines\n",
    "import random\n",
    " \n",
    "role = get_execution_role()\n",
    "print(role)\n",
    "sess = sagemaker.Session()"
   ]
  },
  {
   "cell_type": "code",
   "execution_count": null,
   "metadata": {},
   "outputs": [],
   "source": [
    "# s3.Bucket('lalsaado-playingcards').download_file(\n",
    "#     'object-detection-labels-pub/card-object-detection-clone/manifests/output/output.manifest',\n",
    "#     './whole_manifest.manifest')\n",
    "\n",
    "bucket = 'remars2019-revegas-320k'\n",
    "\n",
    "s3.Bucket(bucket).download_file(\n",
    "    'aug_man_480k.json',\n",
    "    './whole_manifest.manifest')"
   ]
  },
  {
   "cell_type": "code",
   "execution_count": null,
   "metadata": {},
   "outputs": [],
   "source": [
    "whole_manifest = []\n",
    "\n",
    "with jsonlines.open('whole_manifest.manifest') as reader:\n",
    "    for obj in reader:\n",
    "        whole_manifest.append(obj)"
   ]
  },
  {
   "cell_type": "code",
   "execution_count": null,
   "metadata": {},
   "outputs": [],
   "source": [
    "random.shuffle(whole_manifest)"
   ]
  },
  {
   "cell_type": "code",
   "execution_count": null,
   "metadata": {},
   "outputs": [],
   "source": [
    "count = 0\n",
    "for x in whole_manifest:\n",
    "    count = count+1\n",
    "    \n",
    "print(count)\n",
    "\n",
    "\n",
    "train_count = round(count * 0.80)\n",
    "val_count = round(count * 0.20)\n",
    "# test_count = count - train_count - val_count\n",
    "print(\"Train count: \" + str(train_count) + '\\n' +\\\n",
    "      \"Validation count: \" + str(val_count)) #  + '\\n' +\\\n",
    "      # \"Test count: \" + str(test_count))"
   ]
  },
  {
   "cell_type": "code",
   "execution_count": null,
   "metadata": {},
   "outputs": [],
   "source": [
    "train_manifest = []\n",
    "for i in range(train_count):\n",
    "    train_manifest.append(whole_manifest.pop())\n",
    "    \n",
    "val_manifest = []\n",
    "for i in range(val_count):\n",
    "    val_manifest.append(whole_manifest.pop())\n",
    "    \n",
    "# test_manifest = []\n",
    "# for i in range(test_count):\n",
    "#     test_manifest.append(whole_manifest.pop())"
   ]
  },
  {
   "cell_type": "code",
   "execution_count": null,
   "metadata": {},
   "outputs": [],
   "source": [
    "with jsonlines.open('train.manifest', mode='w') as writer:\n",
    "    for i in train_manifest:\n",
    "        writer.write(i)\n",
    "        \n",
    "with jsonlines.open('validate.manifest', mode='w') as writer:\n",
    "    for i in val_manifest:\n",
    "        writer.write(i)\n",
    "        \n",
    "# with jsonlines.open('test.manifest', mode='w') as writer:\n",
    "#     for i in test_manifest:\n",
    "#         writer.write(i)"
   ]
  },
  {
   "cell_type": "code",
   "execution_count": null,
   "metadata": {},
   "outputs": [],
   "source": [
    "import pandas as pd\n",
    "from pandas.io.json import json_normalize\n",
    "from collections import Counter\n",
    "\n",
    "class_map_1 = {\"AC\": 0, \"2C\": 1, \"3C\": 2, \"4C\": 3, \"5C\": 4, \"6C\": 5, \"7C\": 6, \"8C\": 7, \"9C\": 8, \"10C\": 9, \"JC\": 10, \"QC\": 11, \"KC\": 12, \"AD\": 13, \"2D\": 14, \"3D\": 15, \"4D\": 16, \"5D\": 17, \"6D\": 18, \"7D\": 19, \"8D\": 20, \"9D\": 21, \"10D\": 22, \"JD\":23, \"QD\": 24, \"KD\": 25, \"AH\": 26, \"2H\": 27, \"3H\": 28, \"4H\": 29, \"5H\": 30, \"6H\": 31, \"7H\": 32, \"8H\": 33, \"9H\": 34, \"10H\": 35, \"JH\": 36, \"QH\": 37, \"KH\": 38, \"AS\": 39, \"2S\": 40, \"3S\": 41, \"4S\": 42, \"5S\": 43, \"6S\": 44, \"7S\": 45, \"8S\": 46, \"9S\": 47, \"10S\": 48, \"JS\": 49, \"QS\": 50, \"KS\": 51}\n",
    "\n",
    "# print(class_map_1.keys())\n",
    "\n",
    "def get_key(val): \n",
    "    for key, value in class_map_1.items(): \n",
    "         if val == value: \n",
    "             return key \n",
    "  \n",
    "    return \"key doesn't exist\"\n",
    "\n",
    "labels = []\n",
    "train_df = pd.read_json('train.manifest', lines=True)\n",
    "# train_df['bounding-box'].values\n",
    "for x in train_df['bounding-box'].values:\n",
    "    for n in x['annotations']:\n",
    "        # print(get_key(n['class_id']))\n",
    "        labels.append(get_key(n['class_id']))\n",
    "        \n",
    "Counter(labels)\n",
    "\n"
   ]
  },
  {
   "cell_type": "code",
   "execution_count": null,
   "metadata": {},
   "outputs": [],
   "source": [
    "s3.Bucket(bucket).upload_file('train.manifest', 'train.manifest')\n",
    "# s3.Bucket(bucket).upload_file('test.manifest', 'test.manifest')\n",
    "s3.Bucket(bucket).upload_file('validate.manifest', 'validate.manifest')"
   ]
  },
  {
   "cell_type": "code",
   "execution_count": null,
   "metadata": {},
   "outputs": [],
   "source": [
    "from sagemaker.amazon.amazon_estimator import get_image_uri\n",
    "training_image = sagemaker.amazon.amazon_estimator.get_image_uri(boto3.Session().region_name, 'object-detection', repo_version='latest')\n",
    "print (training_image)"
   ]
  },
  {
   "cell_type": "code",
   "execution_count": null,
   "metadata": {},
   "outputs": [],
   "source": [
    "distribution = 'FullyReplicated'\n",
    "\n",
    "# Create full bucket names\n",
    "s3_train_data_path = 's3://{}/train.manifest'.format(bucket)\n",
    "s3_validation_data_path = 's3://{}/validate.manifest'.format(bucket)\n",
    "attribute_names = [\"source-ref\",\"bounding-box\"]\n",
    "s3_output_path = 's3://{}/card-detection-output/'.format(bucket)\n",
    "\n",
    "# Create the sagemaker estimator object.\n",
    "bb_model = sagemaker.estimator.Estimator(training_image,\n",
    "                                         role, \n",
    "                                         train_instance_count = 10, \n",
    "                                         train_instance_type = 'ml.p3.16xlarge',\n",
    "                                         input_mode='Pipe',\n",
    "                                         train_volume_size = 750,\n",
    "                                         train_max_run = 360000,\n",
    "                                         output_path = s3_output_path,\n",
    "                                         base_job_name = 'playingcard-bbox',\n",
    "                                         sagemaker_session = sess)\n",
    "\n",
    "# Setup hyperparameters \n",
    "bb_model.set_hyperparameters(base_network='resnet-50',\n",
    "                             kv_store='dist_sync',\n",
    "                             mini_batch_size=64,\n",
    "                             use_pretrained_model=1,                          \n",
    "                             num_classes=52, # suit/rank combinations\n",
    "                             epochs=60,\n",
    "                             image_shape=512,\n",
    "                             num_training_samples = 384000,\n",
    "                             learning_rate=0.0001,                             \n",
    "                             optimizer='sgd',\n",
    "                             early_stopping=False,\n",
    "                             lr_scheduler_factor=0.1,\n",
    "                             lr_scheduler_step='30,45')\n",
    "\n",
    "# Create sagemaker s3_input objects\n",
    "train_data = sagemaker.session.s3_input(s3_train_data_path, distribution=distribution, \n",
    "                                        content_type='application/x-recordio',\n",
    "                                        record_wrapping='RecordIO',\n",
    "                                        attribute_names=attribute_names,\n",
    "                                        s3_data_type='AugmentedManifestFile')\n",
    "validation_data = sagemaker.session.s3_input(s3_validation_data_path, distribution=distribution, \n",
    "                                        content_type='application/x-recordio',\n",
    "                                        record_wrapping='RecordIO',\n",
    "                                        attribute_names=attribute_names,\n",
    "                                        s3_data_type='AugmentedManifestFile')\n",
    "\n",
    "data_channels = {'train': train_data, \n",
    "                 'validation': validation_data}\n",
    "\n",
    "print(data_channels)"
   ]
  },
  {
   "cell_type": "code",
   "execution_count": null,
   "metadata": {},
   "outputs": [],
   "source": [
    "bb_model.fit(inputs=data_channels, logs=True)"
   ]
  },
  {
   "cell_type": "code",
   "execution_count": null,
   "metadata": {},
   "outputs": [],
   "source": [
    "distribution = 'FullyReplicated'\n",
    "\n",
    "# Create full bucket names\n",
    "s3_train_data_path = 's3://{}/train.manifest'.format(bucket)\n",
    "s3_validation_data_path = 's3://{}/validate.manifest'.format(bucket)\n",
    "attribute_names = [\"source-ref\",\"bounding-box\"]\n",
    "s3_output_path = 's3://{}/card-detection-output/'.format(bucket)\n",
    "\n",
    "# Create the sagemaker estimator object.\n",
    "round_2 = sagemaker.estimator.Estimator(training_image,\n",
    "                                         role, \n",
    "                                         train_instance_count = 10, \n",
    "                                         train_instance_type = 'ml.p3.16xlarge',\n",
    "                                         input_mode='Pipe',\n",
    "                                         train_volume_size = 750,\n",
    "                                         train_max_run = 360000,\n",
    "                                         output_path = s3_output_path,\n",
    "                                         base_job_name = 'playingcard-bbox',\n",
    "                                         sagemaker_session = sess,\n",
    "                                         model_uri = 's3://remars2019-revegas-320k/card-detection-output/playingcard-bbox-2019-04-27-21-14-26-086/output/model.tar.gz')\n",
    "\n",
    "# Setup hyperparameters \n",
    "round_2.set_hyperparameters(base_network='resnet-50',\n",
    "                             kv_store='dist_sync',\n",
    "                             mini_batch_size=64,\n",
    "                             use_pretrained_model=1,                          \n",
    "                             num_classes=52, # suit/rank combinations\n",
    "                             epochs=90,\n",
    "                             image_shape=512,\n",
    "                             num_training_samples = 384000,\n",
    "                             learning_rate=0.001,                             \n",
    "                             optimizer='sgd',\n",
    "                             early_stopping=False,\n",
    "                             lr_scheduler_factor=0.1,\n",
    "                             lr_scheduler_step='30,60')\n",
    "\n",
    "# Create sagemaker s3_input objects\n",
    "train_data = sagemaker.session.s3_input(s3_train_data_path, distribution=distribution, \n",
    "                                        content_type='application/x-recordio',\n",
    "                                        record_wrapping='RecordIO',\n",
    "                                        attribute_names=attribute_names,\n",
    "                                        s3_data_type='AugmentedManifestFile')\n",
    "validation_data = sagemaker.session.s3_input(s3_validation_data_path, distribution=distribution, \n",
    "                                        content_type='application/x-recordio',\n",
    "                                        record_wrapping='RecordIO',\n",
    "                                        attribute_names=attribute_names,\n",
    "                                        s3_data_type='AugmentedManifestFile')\n",
    "\n",
    "data_channels = {'train': train_data, \n",
    "                 'validation': validation_data}\n",
    "\n",
    "print(data_channels)"
   ]
  },
  {
   "cell_type": "code",
   "execution_count": null,
   "metadata": {},
   "outputs": [],
   "source": [
    "round_2.fit(inputs=data_channels, logs=True)"
   ]
  },
  {
   "cell_type": "code",
   "execution_count": null,
   "metadata": {},
   "outputs": [],
   "source": [
    "# you only have to run this once\n",
    "\n",
    "def visualize_detection(img_file, dets, classes=[], thresh=0.6):\n",
    "        \"\"\"\n",
    "        visualize detections in one image\n",
    "        Parameters:\n",
    "        ----------\n",
    "        img : numpy.array\n",
    "            image, in bgr format\n",
    "        dets : numpy.array\n",
    "            ssd detections, numpy.array([[id, score, x1, y1, x2, y2]...])\n",
    "            each row is one object\n",
    "        classes : tuple or list of str\n",
    "            class names\n",
    "        thresh : float\n",
    "            score threshold\n",
    "        \"\"\"\n",
    "        import random\n",
    "        import matplotlib.pyplot as plt\n",
    "        import matplotlib.image as mpimg\n",
    "        plt.figure(figsize=(20,10))\n",
    "\n",
    "        img=mpimg.imread(img_file)\n",
    "        plt.imshow(img)\n",
    "        height = img.shape[0]\n",
    "        width = img.shape[1]\n",
    "        colors = dict()\n",
    "        for det in dets:\n",
    "            (klass, score, x0, y0, x1, y1) = det\n",
    "            if score < thresh:\n",
    "                continue\n",
    "            cls_id = int(klass)\n",
    "            if cls_id not in colors:\n",
    "                colors[cls_id] = (random.random(), random.random(), random.random())\n",
    "            xmin = int(x0 * width)\n",
    "            ymin = int(y0 * height)\n",
    "            xmax = int(x1 * width)\n",
    "            ymax = int(y1 * height)\n",
    "            rect = plt.Rectangle((xmin, ymin), xmax - xmin,\n",
    "                                 ymax - ymin, fill=False,\n",
    "                                 edgecolor=colors[cls_id],\n",
    "                                 linewidth=3.5)\n",
    "            plt.gca().add_patch(rect)\n",
    "            class_name = str(cls_id)\n",
    "            if classes and len(classes) > cls_id:\n",
    "                class_name = classes[cls_id]\n",
    "            plt.gca().text(xmin, ymin - 2,\n",
    "                            '{:s} {:.3f}'.format(class_name, score),\n",
    "                            bbox=dict(facecolor=colors[cls_id], alpha=0.5),\n",
    "                                    fontsize=12, color='white')\n",
    "        plt.figure(figsize=(20,20))\n",
    "        plt.show()\n",
    "        \n",
    "class_map = {\"AC\": 0, \"2C\": 1, \"3C\": 2, \"4C\": 3, \"5C\": 4, \"6C\": 5, \"7C\": 6, \"8C\": 7, \"9C\": 8, \"10C\": 9, \"JC\": 10, \"QC\": 11, \"KC\": 12, \"AD\": 13, \"2D\": 14, \"3D\": 15, \"4D\": 16, \"5D\": 17, \"6D\": 18, \"7D\": 19, \"8D\": 20, \"9D\": 21, \"10D\": 22, \"JD\":23, \"QD\": 24, \"KD\": 25, \"AH\": 26, \"2H\": 27, \"3H\": 28, \"4H\": 29, \"5H\": 30, \"6H\": 31, \"7H\": 32, \"8H\": 33, \"9H\": 34, \"10H\": 35, \"JH\": 36, \"QH\": 37, \"KH\": 38, \"AS\": 39, \"2S\": 40, \"3S\": 41, \"4S\": 42, \"5S\": 43, \"6S\": 44, \"7S\": 45, \"8S\": 46, \"9S\": 47, \"10S\": 48, \"JS\": 49, \"QS\": 50, \"KS\": 51}"
   ]
  },
  {
   "cell_type": "code",
   "execution_count": null,
   "metadata": {},
   "outputs": [],
   "source": [
    "bb_predictor = round_2.deploy(initial_instance_count=1, instance_type='ml.m4.xlarge')"
   ]
  },
  {
   "cell_type": "code",
   "execution_count": null,
   "metadata": {},
   "outputs": [],
   "source": [
    "s3.Bucket('remars2019-revegas-blink-awsinternal').download_file('blinktarget/media/u005/account/112141/network/120650/camera/294655/thumbnail/fw_220.39__W2r_FGTv_2019_04_29__20_10PM.jpg', './images/newblink.jpg')"
   ]
  },
  {
   "cell_type": "code",
   "execution_count": null,
   "metadata": {},
   "outputs": [],
   "source": [
    "filename = './images/perfectwebcam.jpg'"
   ]
  },
  {
   "cell_type": "code",
   "execution_count": null,
   "metadata": {},
   "outputs": [],
   "source": [
    "import matplotlib.pyplot as plt\n",
    "\n",
    "import PIL\n",
    "\n",
    "# resize image size for inference\n",
    "im = PIL.Image.open(filename)\n",
    "# im = im.convert('RGB')\n",
    "# im.thumbnail([512,512],PIL.Image.ANTIALIAS)\n",
    "# filename = './images/6D.jpg'\n",
    "# im = im.rotate(-45)\n",
    "im.save(filename, \"JPEG\")\n",
    "\n",
    "\n",
    "%matplotlib inline\n",
    "plt.figure(figsize=(20,20))\n",
    "plt.imshow(im)\n",
    "with open(filename, 'rb') as image:\n",
    "    img = image.read()\n",
    "    img = bytearray(img)"
   ]
  },
  {
   "cell_type": "code",
   "execution_count": null,
   "metadata": {},
   "outputs": [],
   "source": [
    "bb_predictor.content_type = 'image/jpeg'\n",
    "results = bb_predictor.predict(img)\n",
    "detections = json.loads(results)\n",
    "print(detections)"
   ]
  },
  {
   "cell_type": "code",
   "execution_count": null,
   "metadata": {},
   "outputs": [],
   "source": [
    "object_categories = list(class_map.keys())\n",
    "\n",
    "# Setting a threshold will only plot detection results that have a confidence score greater than .\n",
    "threshold = 0.04\n",
    "\n",
    "# Visualize the detections.\n",
    "visualize_detection(filename, detections['prediction'], object_categories, threshold)"
   ]
  },
  {
   "cell_type": "code",
   "execution_count": null,
   "metadata": {},
   "outputs": [],
   "source": [
    "# uncomment this if you trained the model seperately from the notebook and need to create a estimator object manually\n",
    "\n",
    "# new_predictor = sagemaker.predictor.RealTimePredictor(\n",
    "#     endpoint='goodmodel',\n",
    "#     sagemaker_session=sess,\n",
    "#     content_type='image/jpeg',\n",
    "#     accept='image/png')\n",
    "\n",
    "# return_img = new_predictor.predict(img)"
   ]
  },
  {
   "cell_type": "code",
   "execution_count": null,
   "metadata": {},
   "outputs": [],
   "source": [
    "bb_predictor.delete_endpoint()"
   ]
  },
  {
   "cell_type": "code",
   "execution_count": null,
   "metadata": {},
   "outputs": [],
   "source": []
  }
 ],
 "metadata": {
  "kernelspec": {
   "display_name": "conda_mxnet_p36",
   "language": "python",
   "name": "myenv"
  },
  "language_info": {
   "codemirror_mode": {
    "name": "ipython",
    "version": 3
   },
   "file_extension": ".py",
   "mimetype": "text/x-python",
   "name": "python",
   "nbconvert_exporter": "python",
   "pygments_lexer": "ipython3",
   "version": "3.6.8"
  }
 },
 "nbformat": 4,
 "nbformat_minor": 2
}
